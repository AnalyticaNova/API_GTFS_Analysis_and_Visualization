{
 "cells": [
  {
   "cell_type": "markdown",
   "id": "112c6476-4db7-4ae9-8388-6b224a072ab7",
   "metadata": {},
   "source": [
    "# Using Transit API for Public Transit Data Extraction\n",
    "\n",
    "This notebook demonstrates how to extract public transit data for Montreal using the Transit API.\n",
    "The goal is to collect nearby transit routes, stops, and available network data to support further analysis.\n",
    "\n",
    "The data collected from the API was later merged with GTFS schedule data and used in downstream Python analysis, SQL exploration, and Tableau dashboards.\n",
    "\n",
    "### **Note:**\n",
    "This notebook demonstrates the structure of API requests only. No data retrieved from the API is stored, displayed, or included in the repository.\n",
    "\n",
    "<span style=\"font-size:20px\">**API Reference and Approach**\n",
    "\n",
    "Transit provides an OpenAPI specification in JSON format that outlines all available endpoints, parameters, and data schemas.\n",
    "\n",
    "The endpoints used in this notebook include:\n",
    "\n",
    "- /public/nearby_routes: Returns transit routes near a specific location\n",
    "\n",
    "- /public/nearby_stops: Returns nearby physical stops\n",
    "\n",
    "- /public/available_networks: Lists all supported transit networks\n",
    "\n",
    "<span style=\"font-size:20px\">**Key implementation details:**\n",
    "\n",
    "- The correct header field for authorization is \"apiKey\"\n",
    "\n",
    "- Requests require parameters like latitude, longitude, radius, and flags (e.g., should_update_realtime)\n",
    "\n",
    "- Responses come in nested JSON format, which we flattened using pandas.json_normalize() for analysis\n",
    "\n",
    "\n",
    "<span style=\"font-size:20px\">**API Access**\n",
    "\n",
    "An API key was requested directly from the Transit team via their website. \n",
    "This key was then passed via headers on all HTTP requests:"
   ]
  },
  {
   "cell_type": "markdown",
   "id": "8217168a-7024-4730-8ceb-7ab3eea286ea",
   "metadata": {},
   "source": [
    "```\n",
    "HEADERS = {\n",
    "    \"apiKey\": API_KEY,\n",
    "    \"Accept-Language\": \"en\"\n",
    "}"
   ]
  },
  {
   "cell_type": "markdown",
   "id": "df60b247-636a-4192-9f51-de0dd4b1f327",
   "metadata": {},
   "source": [
    "<span style=\"font-size:20px\">**Querying Locations Across Montreal**\n",
    "\n",
    "To get meaningful coverage, we selected five key locations across the city:"
   ]
  },
  {
   "cell_type": "markdown",
   "id": "7716f035-d070-4825-bce5-c3529591df2a",
   "metadata": {},
   "source": [
    "```\n",
    "key_locations = [\n",
    "    (45.5019, -73.5674),  # Downtown\n",
    "    (45.5371, -73.5804),  # Plateau\n",
    "    (45.4945, -73.6104),  # NDG\n",
    "    (45.4689, -73.5702),  # Verdun\n",
    "    (45.5480, -73.6078),  # Rosemont\n",
    "]"
   ]
  },
  {
   "cell_type": "markdown",
   "id": "3125f921-41cf-4167-94ce-33633e6b157a",
   "metadata": {},
   "source": [
    "<span style=\"font-size:20px\">**Final Output**\n",
    "  \n",
    "- montreal_routes_all.csv\t : Unique routes near selected Montreal coordinates\n",
    "- montreal_nearby_stops.csv\t : Routable physical stops within 1km radius\n",
    "- available_networks.csv\t : Transit networks supported by the API"
   ]
  },
  {
   "cell_type": "code",
   "execution_count": null,
   "id": "28f8bf47",
   "metadata": {},
   "outputs": [],
   "source": [
    "# Import required libraries\n",
    "\n",
    "import requests\n",
    "import pandas as pd\n",
    "from time import sleep\n",
    "import time\n",
    "import os\n",
    "from config import API_KEY"
   ]
  },
  {
   "cell_type": "markdown",
   "id": "c10a3990-a9a6-4138-acb9-f236434ba559",
   "metadata": {},
   "source": [
    "**NOTE:**\n",
    "\n",
    "This notebook uses the Transit API. Please set your own API key as an environment variable or directly in the code.\n",
    "**API keys are not included for security reasons.**"
   ]
  },
  {
   "cell_type": "code",
   "execution_count": null,
   "id": "c93dbdd7",
   "metadata": {},
   "outputs": [],
   "source": [
    "# Strip any whitespace\n",
    "API_KEY = API_KEY.strip()\n",
    "\n",
    "HEADERS = {\n",
    "    \"apiKey\": API_KEY,\n",
    "    \"Accept-Language\": \"en\"\n",
    "}\n",
    "\n",
    "key_locations = [\n",
    "    (45.5019, -73.5674),  # Downtown\n",
    "    (45.5371, -73.5804),  # Plateau\n",
    "    (45.4945, -73.6104),  # NDG\n",
    "    (45.4689, -73.5702),  # Verdun\n",
    "    (45.5480, -73.6078),  # Rosemont\n",
    "]"
   ]
  },
  {
   "cell_type": "markdown",
   "id": "8cc6991a-c547-40b5-adb4-5198b5766551",
   "metadata": {},
   "source": [
    "## Nearby Routes"
   ]
  },
  {
   "cell_type": "code",
   "execution_count": null,
   "id": "861c7c89",
   "metadata": {},
   "outputs": [],
   "source": [
    "def get_nearby_routes(api_key, lat, lon, radius=1500):\n",
    "    \"\"\"x\n",
    "    Fetch all nearby transit routes for a given location and radius.\n",
    "    Returns a DataFrame with full route details.\n",
    "    \"\"\"\n",
    "    # Endpoint for retrieving nearby transit routes\n",
    "    url = \"https://external.transitapp.com/v3/public/nearby_routes\"\n",
    "    \n",
    "    params = {\n",
    "        \"lat\": lat,\n",
    "        \"lon\": lon,\n",
    "        \"max_distance\": radius,\n",
    "        \"should_update_realtime\": False\n",
    "    }\n",
    "\n",
    "    # Send GET request to the API\n",
    "    response = requests.get(url, headers=HEADERS, params=params)\n",
    "\n",
    "    # HTTP status code 200\n",
    "    if response.status_code == 200:\n",
    "        \n",
    "        routes = response.json().get(\"routes\", [])\n",
    "        if routes:\n",
    "            df = pd.json_normalize(routes)\n",
    "            df[\"query_lat\"] = lat\n",
    "            df[\"query_lon\"] = lon\n",
    "\n",
    "            return df\n",
    "        else:\n",
    "            print(f\"No routes found near ({lat}, {lon})\")\n",
    "            return pd.DataFrame()\n",
    "    else:\n",
    "        print(\"Error:\", response.status_code, response.text)\n",
    "        return pd.DataFrame()"
   ]
  },
  {
   "cell_type": "code",
   "execution_count": null,
   "id": "6cdf78df",
   "metadata": {},
   "outputs": [],
   "source": [
    "# Initialize an empty list to store results from each location\n",
    "route_dfs = []\n",
    "\n",
    "for lat, lon in key_locations:\n",
    "    \n",
    "    df = get_nearby_routes(API_KEY, lat, lon, radius=1500)\n",
    "    if not df.empty:\n",
    "        route_dfs.append(df)\n",
    "\n",
    "# Combine all collected route dfs\n",
    "all_routes_df = pd.concat(route_dfs, ignore_index=True)\n",
    "\n",
    "# Remove duplicates\n",
    "all_routes_df = all_routes_df.drop_duplicates(subset=[\"global_route_id\"])\n",
    "\n",
    "#all_routes_df.to_csv(\"montreal_routes_all.csv\", index=False)\n",
    "print(\"Total unique routes collected:\", all_routes_df.shape[0])"
   ]
  },
  {
   "cell_type": "code",
   "execution_count": null,
   "id": "12cd2eb3",
   "metadata": {
    "scrolled": true
   },
   "outputs": [],
   "source": [
    "all_routes_df.columns"
   ]
  },
  {
   "cell_type": "markdown",
   "id": "03a201ae-adb1-427c-b86d-a538caa3194b",
   "metadata": {},
   "source": [
    "## Nearby Stops"
   ]
  },
  {
   "cell_type": "code",
   "execution_count": null,
   "id": "6bc2394d",
   "metadata": {},
   "outputs": [],
   "source": [
    "def get_nearby_stops(api_key, lat, lon, radius=1000):\n",
    "    \"\"\"\n",
    "    Fetch nearby transit stops for a given location and radius using the Transit API.\n",
    "    Filters out non-routable or invalid stops. Returns a cleaned DataFrame.\n",
    "    \"\"\"\n",
    "\n",
    "    # Set API endpoint and headers\n",
    "    url = \"https://external.transitapp.com/v3/public/nearby_stops\"\n",
    "    headers = {\n",
    "        \"apiKey\": api_key,\n",
    "        \"Accept-Language\": \"en\"\n",
    "    }\n",
    "\n",
    "    # Define query parameters\n",
    "    params = {\n",
    "        \"lat\": lat,\n",
    "        \"lon\": lon,\n",
    "        \"radius\": radius,\n",
    "        \"stop_filter\": \"Routable\"\n",
    "    }\n",
    "\n",
    "    # Send GET request\n",
    "    response = requests.get(url, headers=headers, params=params)\n",
    "\n",
    "    if response.status_code == 200:\n",
    "        # Extract stops from response\n",
    "        stops = response.json().get(\"stops\", [])\n",
    "        if stops:\n",
    "            df = pd.json_normalize(stops)\n",
    "            df[\"query_lat\"] = lat\n",
    "            df[\"query_lon\"] = lon\n",
    "            # Filter for valid stops only\n",
    "            df = df[(df[\"location_type\"] == 0) & df[\"global_stop_id\"].notna()]\n",
    "            return df\n",
    "        else:\n",
    "            print(\"No stops found.\")\n",
    "            return pd.DataFrame()\n",
    "    else:\n",
    "        # Handle errors\n",
    "        print(\"Error:\", response.status_code, response.text)\n",
    "        return pd.DataFrame()"
   ]
  },
  {
   "cell_type": "code",
   "execution_count": null,
   "id": "e4aafc43",
   "metadata": {},
   "outputs": [],
   "source": [
    "all_stops = []\n",
    "\n",
    "for lat, lon in key_locations:\n",
    "    df = get_nearby_stops(API_KEY, lat=lat, lon=lon, radius=1000)\n",
    "    if not df.empty:\n",
    "        all_stops.append(df)\n",
    "    time.sleep(3)  #avoid rapid-fire calls\n",
    "\n",
    "# Combine all stops into one DataFrame\n",
    "all_stops_df = pd.concat(all_stops, ignore_index=True).drop_duplicates()\n",
    "print(\"All stops shape:\", all_stops_df.shape)\n",
    "\n",
    "# Save for analysis\n",
    "#all_stops_df.to_csv(\"montreal_nearby_stops.csv\", index=False)\n",
    "all_stops_df.head()"
   ]
  },
  {
   "cell_type": "code",
   "execution_count": null,
   "id": "5c8dc45d",
   "metadata": {},
   "outputs": [],
   "source": [
    "all_stops_df.columns"
   ]
  },
  {
   "cell_type": "markdown",
   "id": "daa1b6b9",
   "metadata": {},
   "source": [
    "## Available Networks"
   ]
  },
  {
   "cell_type": "code",
   "execution_count": null,
   "id": "5cfc0c15",
   "metadata": {},
   "outputs": [],
   "source": [
    "def get_available_networks(api_key):\n",
    "    \"\"\"\n",
    "    Fetch the list of all available transit networks from the Transit API.\n",
    "    \n",
    "    Returns a DataFrame with network metadata such as network name, location, and ID.\n",
    "    \"\"\"\n",
    "    url = \"https://external.transitapp.com/v3/public/available_networks\"\n",
    "    response = requests.get(url, headers={\"apiKey\": api_key, \"Accept-Language\": \"en\"})\n",
    "\n",
    "    if response.status_code == 200:\n",
    "        networks = response.json().get(\"networks\", [])\n",
    "        if networks:\n",
    "            df = pd.json_normalize(networks)\n",
    "            return df\n",
    "        else:\n",
    "            print(\"No networks found.\")\n",
    "            return pd.DataFrame()\n",
    "    else:\n",
    "        print(\"Error:\", response.status_code, response.text)\n",
    "        return pd.DataFrame()"
   ]
  },
  {
   "cell_type": "code",
   "execution_count": null,
   "id": "cca68153",
   "metadata": {},
   "outputs": [],
   "source": [
    "networks_df = get_available_networks(API_KEY)\n",
    "#networks_df.to_csv(\"available_networks.csv\", index=False)\n",
    "print(\"Networks fetched:\", networks_df.shape[0])\n",
    "networks_df.head()"
   ]
  },
  {
   "cell_type": "code",
   "execution_count": null,
   "id": "14254c35",
   "metadata": {},
   "outputs": [],
   "source": [
    "networks_df.columns"
   ]
  },
  {
   "cell_type": "markdown",
   "id": "78cb1cbc-13eb-4c00-a083-d64cca1ce61a",
   "metadata": {},
   "source": [
    "<span style=\"font-size:20px\">**Summary**\n",
    "\n",
    "- Applied an OpenAPI spec to understand the available endpoints\n",
    "\n",
    "- Queried REST APIs using secure headers and custom parameters\n",
    "\n",
    "- Flattened nested JSON responses using pandas\n",
    "\n",
    "- Built and exported structured datasets for downstream analysis\n",
    "\n",
    "- These datasets were later combined with GTFS schedule data for further analysis, forecasting and visualizations in Python, SQL, and Tableau. "
   ]
  },
  {
   "cell_type": "code",
   "execution_count": null,
   "id": "c9382477",
   "metadata": {},
   "outputs": [],
   "source": []
  },
  {
   "cell_type": "code",
   "execution_count": null,
   "id": "a95ef7a5",
   "metadata": {},
   "outputs": [],
   "source": []
  }
 ],
 "metadata": {
  "kernelspec": {
   "display_name": "Python 3 (ipykernel)",
   "language": "python",
   "name": "python3"
  },
  "language_info": {
   "codemirror_mode": {
    "name": "ipython",
    "version": 3
   },
   "file_extension": ".py",
   "mimetype": "text/x-python",
   "name": "python",
   "nbconvert_exporter": "python",
   "pygments_lexer": "ipython3",
   "version": "3.11.4"
  }
 },
 "nbformat": 4,
 "nbformat_minor": 5
}
