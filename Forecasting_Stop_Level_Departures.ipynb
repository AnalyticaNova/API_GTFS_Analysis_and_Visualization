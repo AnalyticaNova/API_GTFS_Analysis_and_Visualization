{
 "cells": [
  {
   "cell_type": "markdown",
   "id": "83849360-e72a-46bb-a4fa-adcfc3f2a89e",
   "metadata": {},
   "source": [
    "# Forecasting Hourly Stop-Level Service Intensity\n",
    "\n",
    "This notebook focuses on building a predictive model to estimate the number of scheduled vehicle departures per stop per hour in Montreal’s transit network.\n",
    "\n",
    "In other words, the main question we’re trying to answer is:\n",
    "“How many departures are expected from each stop during a given hour?”\n",
    "\n",
    "This is a supply-side forecast aimed at predicting how much service the system plans to provide based on GTFS (General Transit Feed Specification) data.\n",
    "\n",
    "We begin by preparing and transforming schedule-level GTFS data into a modelling-ready format, engineer time-based and stop-specific features, and train a model to forecast hourly departure volumes.\n",
    "\n",
    "This notebook is part of a broader project that includes analysis, forecasting, and visualizations of Montreal transit data using Python, SQL, and Tableau."
   ]
  },
  {
   "cell_type": "markdown",
   "id": "f3844bb5-ea4e-42aa-9ccd-6178e9e06ef5",
   "metadata": {},
   "source": [
    "<span style=\"font-size:22px\">**Forecasting Goal and Scope**\n",
    "\n",
    "The goal of this forecasting task is not to build a comprehensive model over the entire dataset, but rather to demonstrate a practical application of predictive modeling. We focus on a small subset of the data and forecast the number of scheduled departures at each hour of the day.\n",
    "\n",
    "Given the small size and complexity of the dataset, we intentionally do not deep-dive into model optimization. This includes skipping validation set creation, cross-validation, hyperparameter tuning, or advanced models.\n",
    "\n",
    "Instead, the objective is to showcase a solid understanding of the prediction pipeline, from data preprocessing and feature engineering to model training and evaluation, using interpretable techniques like Random Forests and clear visualizations."
   ]
  },
  {
   "cell_type": "code",
   "execution_count": 2,
   "id": "ea5c49b2-4ebb-47ef-9713-340424a67224",
   "metadata": {},
   "outputs": [],
   "source": [
    "# Import required libraries\n",
    "import pandas as pd\n",
    "import os\n",
    "#import textwrap\n",
    "import matplotlib.pyplot as plt\n",
    "import seaborn as sns\n",
    "\n",
    "import warnings\n",
    "warnings.filterwarnings('ignore')"
   ]
  },
  {
   "cell_type": "markdown",
   "id": "58444a6c-0f08-4a79-9584-7b1c7c9dfbce",
   "metadata": {},
   "source": [
    "### GTFS"
   ]
  },
  {
   "cell_type": "markdown",
   "id": "f2c72af4-d537-4fbc-af3c-f18ae8216e0a",
   "metadata": {},
   "source": [
    "The GTFS data overview, the steps for creating the stop-level schedule, and its analyses are fully documented in the **\"GTFS _Data_Analysis.ipynb\" notebook**. In this notebook, we simply merge and use the prepared data."
   ]
  },
  {
   "cell_type": "code",
   "execution_count": 3,
   "id": "a6d9ff28-14c0-4cef-94a0-d2eaf4401bc6",
   "metadata": {},
   "outputs": [],
   "source": [
    "# Define the GTFS directory\n",
    "gtfs_path = \"gtfs\"\n",
    "\n",
    "gtfs_files = {\n",
    "    \"routes\": \"routes.txt\",\n",
    "    \"stop_times\": \"stop_times.txt\",\n",
    "    \"stops\": \"stops.txt\",\n",
    "    \"trips\": \"trips.txt\",\n",
    "    \"shapes\": \"shapes.txt\",\n",
    "    \"feed_info\": \"feed_info.txt\",\n",
    "    \"calendar\": \"calendar.txt\",\n",
    "    \"agency\": \"agency.txt\",\n",
    "    \"calendar_dates\": \"calendar_dates.txt\"\n",
    "}\n",
    "\n",
    "# Read all GTFS files into a dictionary of DataFrames\n",
    "gtfs_dfs = {}\n",
    "for name, file in gtfs_files.items():\n",
    "    full_path = os.path.join(gtfs_path, file)\n",
    "    if os.path.exists(full_path):\n",
    "        gtfs_dfs[name] = pd.read_csv(full_path)\n",
    "    else:\n",
    "        gtfs_dfs[name] = pd.DataFrame()"
   ]
  },
  {
   "cell_type": "code",
   "execution_count": 4,
   "id": "d86f1b9d-a715-4d0b-9f2c-99575e899276",
   "metadata": {},
   "outputs": [
    {
     "data": {
      "text/plain": [
       "dict_keys(['routes', 'stop_times', 'stops', 'trips', 'shapes', 'feed_info', 'calendar', 'agency', 'calendar_dates'])"
      ]
     },
     "execution_count": 4,
     "metadata": {},
     "output_type": "execute_result"
    }
   ],
   "source": [
    "gtfs_dfs.keys()"
   ]
  },
  {
   "cell_type": "markdown",
   "id": "a2fce56a-f8df-48ad-a954-89b19f07bc25",
   "metadata": {},
   "source": [
    "<span style=\"font-size:18px\">**Stop-Level Schedule Construction**"
   ]
  },
  {
   "cell_type": "code",
   "execution_count": 5,
   "id": "0760761a-816e-4d64-b73e-fbdd548c2cbd",
   "metadata": {},
   "outputs": [],
   "source": [
    "# Required GTFS DataFrames\n",
    "stop_times = gtfs_dfs[\"stop_times\"]\n",
    "trips = gtfs_dfs[\"trips\"]\n",
    "routes = gtfs_dfs[\"routes\"]\n",
    "stops = gtfs_dfs[\"stops\"]\n",
    "\n",
    "# Ensure stop_id is a string in both for merging\n",
    "stop_times[\"stop_id\"] = stop_times[\"stop_id\"].astype(str)\n",
    "stops[\"stop_id\"] = stops[\"stop_id\"].astype(str)\n",
    "\n",
    "# Merge stop_times with trips to get trip-level metadata\n",
    "merged_1 = pd.merge(stop_times, trips, on=\"trip_id\", how=\"left\")\n",
    "\n",
    "# Merge the result with routes to get route-level info\n",
    "merged_2 = pd.merge(merged_1, routes, on=\"route_id\", how=\"left\")\n",
    "\n",
    "# Merge with stops to get stop name and location\n",
    "full_schedule_df = pd.merge(merged_2, stops, on=\"stop_id\", how=\"left\")"
   ]
  },
  {
   "cell_type": "code",
   "execution_count": 6,
   "id": "dd93d99c-d4e5-448f-b290-2aed90bca8bf",
   "metadata": {
    "scrolled": true
   },
   "outputs": [
    {
     "data": {
      "text/html": [
       "<div>\n",
       "<style scoped>\n",
       "    .dataframe tbody tr th:only-of-type {\n",
       "        vertical-align: middle;\n",
       "    }\n",
       "\n",
       "    .dataframe tbody tr th {\n",
       "        vertical-align: top;\n",
       "    }\n",
       "\n",
       "    .dataframe thead th {\n",
       "        text-align: right;\n",
       "    }\n",
       "</style>\n",
       "<table border=\"1\" class=\"dataframe\">\n",
       "  <thead>\n",
       "    <tr style=\"text-align: right;\">\n",
       "      <th></th>\n",
       "      <th>trip_id</th>\n",
       "      <th>arrival_time</th>\n",
       "      <th>departure_time</th>\n",
       "      <th>stop_id</th>\n",
       "      <th>stop_sequence</th>\n",
       "      <th>route_id</th>\n",
       "      <th>service_id</th>\n",
       "      <th>trip_headsign</th>\n",
       "      <th>direction_id</th>\n",
       "      <th>shape_id</th>\n",
       "      <th>...</th>\n",
       "      <th>route_color</th>\n",
       "      <th>route_text_color</th>\n",
       "      <th>stop_code</th>\n",
       "      <th>stop_name</th>\n",
       "      <th>stop_lat</th>\n",
       "      <th>stop_lon</th>\n",
       "      <th>stop_url</th>\n",
       "      <th>location_type</th>\n",
       "      <th>parent_station</th>\n",
       "      <th>wheelchair_boarding</th>\n",
       "    </tr>\n",
       "  </thead>\n",
       "  <tbody>\n",
       "    <tr>\n",
       "      <th>0</th>\n",
       "      <td>281570788</td>\n",
       "      <td>05:58:00</td>\n",
       "      <td>05:58:00</td>\n",
       "      <td>51095</td>\n",
       "      <td>1</td>\n",
       "      <td>16</td>\n",
       "      <td>25J-H50J000A-80-A</td>\n",
       "      <td>Ouest</td>\n",
       "      <td>1</td>\n",
       "      <td>160088</td>\n",
       "      <td>...</td>\n",
       "      <td>009EE0</td>\n",
       "      <td>FFFFFF</td>\n",
       "      <td>51095</td>\n",
       "      <td>Station Parc (Ogilvy / Hutchison)</td>\n",
       "      <td>45.530549</td>\n",
       "      <td>-73.624282</td>\n",
       "      <td>https://www.stm.info/fr/recherche#stq=51095</td>\n",
       "      <td>0</td>\n",
       "      <td>NaN</td>\n",
       "      <td>1</td>\n",
       "    </tr>\n",
       "    <tr>\n",
       "      <th>1</th>\n",
       "      <td>281570788</td>\n",
       "      <td>05:59:39</td>\n",
       "      <td>05:59:39</td>\n",
       "      <td>51126</td>\n",
       "      <td>2</td>\n",
       "      <td>16</td>\n",
       "      <td>25J-H50J000A-80-A</td>\n",
       "      <td>Ouest</td>\n",
       "      <td>1</td>\n",
       "      <td>160088</td>\n",
       "      <td>...</td>\n",
       "      <td>009EE0</td>\n",
       "      <td>FFFFFF</td>\n",
       "      <td>51126</td>\n",
       "      <td>Querbes / Jean-Talon</td>\n",
       "      <td>45.528506</td>\n",
       "      <td>-73.623649</td>\n",
       "      <td>https://www.stm.info/fr/recherche#stq=51126</td>\n",
       "      <td>0</td>\n",
       "      <td>NaN</td>\n",
       "      <td>1</td>\n",
       "    </tr>\n",
       "  </tbody>\n",
       "</table>\n",
       "<p>2 rows × 28 columns</p>\n",
       "</div>"
      ],
      "text/plain": [
       "     trip_id arrival_time departure_time stop_id  stop_sequence  route_id  \\\n",
       "0  281570788     05:58:00       05:58:00   51095              1        16   \n",
       "1  281570788     05:59:39       05:59:39   51126              2        16   \n",
       "\n",
       "          service_id trip_headsign  direction_id  shape_id  ...  route_color  \\\n",
       "0  25J-H50J000A-80-A         Ouest             1    160088  ...       009EE0   \n",
       "1  25J-H50J000A-80-A         Ouest             1    160088  ...       009EE0   \n",
       "\n",
       "  route_text_color stop_code                          stop_name   stop_lat  \\\n",
       "0           FFFFFF     51095  Station Parc (Ogilvy / Hutchison)  45.530549   \n",
       "1           FFFFFF     51126               Querbes / Jean-Talon  45.528506   \n",
       "\n",
       "    stop_lon                                     stop_url location_type  \\\n",
       "0 -73.624282  https://www.stm.info/fr/recherche#stq=51095             0   \n",
       "1 -73.623649  https://www.stm.info/fr/recherche#stq=51126             0   \n",
       "\n",
       "  parent_station wheelchair_boarding  \n",
       "0            NaN                   1  \n",
       "1            NaN                   1  \n",
       "\n",
       "[2 rows x 28 columns]"
      ]
     },
     "execution_count": 6,
     "metadata": {},
     "output_type": "execute_result"
    }
   ],
   "source": [
    "full_schedule_df.head(2)"
   ]
  },
  {
   "cell_type": "markdown",
   "id": "a75f4eb8-65f7-4f46-8749-7498f5bb6bdf",
   "metadata": {},
   "source": [
    "**Each row in full_schedule_df represents a single stop at a specific time on a specific trip for a specific route.**"
   ]
  },
  {
   "cell_type": "code",
   "execution_count": 7,
   "id": "3fccccc5-d707-4861-89c2-2c9088f0141f",
   "metadata": {},
   "outputs": [
    {
     "data": {
      "text/plain": [
       "(6265018, 28)"
      ]
     },
     "execution_count": 7,
     "metadata": {},
     "output_type": "execute_result"
    }
   ],
   "source": [
    "full_schedule_df.shape"
   ]
  },
  {
   "cell_type": "code",
   "execution_count": 8,
   "id": "a149884b-d8a9-42b7-a017-34192ce1cb25",
   "metadata": {},
   "outputs": [
    {
     "data": {
      "text/plain": [
       "Index(['trip_id', 'arrival_time', 'departure_time', 'stop_id', 'stop_sequence',\n",
       "       'route_id', 'service_id', 'trip_headsign', 'direction_id', 'shape_id',\n",
       "       'wheelchair_accessible', 'note_fr', 'note_en', 'agency_id',\n",
       "       'route_short_name', 'route_long_name', 'route_type', 'route_url',\n",
       "       'route_color', 'route_text_color', 'stop_code', 'stop_name', 'stop_lat',\n",
       "       'stop_lon', 'stop_url', 'location_type', 'parent_station',\n",
       "       'wheelchair_boarding'],\n",
       "      dtype='object')"
      ]
     },
     "execution_count": 8,
     "metadata": {},
     "output_type": "execute_result"
    }
   ],
   "source": [
    "full_schedule_df.columns"
   ]
  },
  {
   "cell_type": "markdown",
   "id": "1a723b5b-46f8-4efd-b42e-d332de66a1bf",
   "metadata": {},
   "source": [
    "# Preprocessing for Forecasting"
   ]
  },
  {
   "cell_type": "code",
   "execution_count": 9,
   "id": "fc9ccc8b-b443-4959-94fd-60cdaa289c2d",
   "metadata": {},
   "outputs": [
    {
     "data": {
      "text/plain": [
       "Index(['trip_id', 'arrival_time', 'departure_time', 'stop_id', 'stop_sequence',\n",
       "       'route_id', 'service_id', 'trip_headsign', 'direction_id', 'shape_id',\n",
       "       'wheelchair_accessible', 'note_fr', 'note_en', 'agency_id',\n",
       "       'route_short_name', 'route_long_name', 'route_type', 'route_url',\n",
       "       'route_color', 'route_text_color', 'stop_code', 'stop_name', 'stop_lat',\n",
       "       'stop_lon', 'stop_url', 'location_type', 'parent_station',\n",
       "       'wheelchair_boarding'],\n",
       "      dtype='object')"
      ]
     },
     "execution_count": 9,
     "metadata": {},
     "output_type": "execute_result"
    }
   ],
   "source": [
    "full_schedule_df.columns"
   ]
  },
  {
   "cell_type": "code",
   "execution_count": 10,
   "id": "e231ed71-5788-4981-843a-3b5aeea7831e",
   "metadata": {},
   "outputs": [],
   "source": [
    "full_schedule_df[\"hour\"] = full_schedule_df[\"departure_time\"].str.slice(0,2).astype(\"int32\")"
   ]
  },
  {
   "cell_type": "code",
   "execution_count": 11,
   "id": "9b37f988-cbf1-477d-bef8-f6df8c42f715",
   "metadata": {},
   "outputs": [
    {
     "data": {
      "text/plain": [
       "4"
      ]
     },
     "execution_count": 11,
     "metadata": {},
     "output_type": "execute_result"
    }
   ],
   "source": [
    "full_schedule_df[\"hour\"].min()"
   ]
  },
  {
   "cell_type": "code",
   "execution_count": 12,
   "id": "3529d8c4-8afa-4cda-8bf7-f6d70dcd761f",
   "metadata": {},
   "outputs": [
    {
     "data": {
      "text/plain": [
       "30"
      ]
     },
     "execution_count": 12,
     "metadata": {},
     "output_type": "execute_result"
    }
   ],
   "source": [
    "full_schedule_df[\"hour\"].max()"
   ]
  },
  {
   "cell_type": "markdown",
   "id": "7722f81a-65db-4d60-a0a0-e5fc6a00bcbd",
   "metadata": {},
   "source": [
    "(24–30 = early morning next day)"
   ]
  },
  {
   "cell_type": "code",
   "execution_count": 13,
   "id": "58630907-f7c2-41e5-bb5b-7fb1e6bb66e0",
   "metadata": {},
   "outputs": [],
   "source": [
    "# Normalize to standard clock hours (0–23)\n",
    "full_schedule_df[\"hour_mod\"] = full_schedule_df[\"hour\"] % 24"
   ]
  },
  {
   "cell_type": "markdown",
   "id": "d40c614d-f61f-4a82-a438-e8c859ce92d1",
   "metadata": {},
   "source": [
    "**hour:** operational hour from GTFS\n",
    "\n",
    "**hour_mod:** actual time-of-day "
   ]
  },
  {
   "cell_type": "code",
   "execution_count": 14,
   "id": "3ff64e5f-8775-4ebf-a232-665942eefed6",
   "metadata": {},
   "outputs": [
    {
     "data": {
      "text/plain": [
       "Index(['trip_id', 'arrival_time', 'departure_time', 'stop_id', 'stop_sequence',\n",
       "       'route_id', 'service_id', 'trip_headsign', 'direction_id', 'shape_id',\n",
       "       'wheelchair_accessible', 'note_fr', 'note_en', 'agency_id',\n",
       "       'route_short_name', 'route_long_name', 'route_type', 'route_url',\n",
       "       'route_color', 'route_text_color', 'stop_code', 'stop_name', 'stop_lat',\n",
       "       'stop_lon', 'stop_url', 'location_type', 'parent_station',\n",
       "       'wheelchair_boarding', 'hour', 'hour_mod'],\n",
       "      dtype='object')"
      ]
     },
     "execution_count": 14,
     "metadata": {},
     "output_type": "execute_result"
    }
   ],
   "source": [
    "full_schedule_df.columns"
   ]
  },
  {
   "cell_type": "code",
   "execution_count": 15,
   "id": "668d42b0-7876-4b2c-83e4-c969ce9dbd5c",
   "metadata": {},
   "outputs": [],
   "source": [
    "columns_to_drop = [\"note_fr\", \"note_en\", \"route_url\", \"route_color\", \"route_text_color\", \"stop_url\"]\n",
    "\n",
    "full_schedule_df.drop(columns=columns_to_drop, inplace=True)"
   ]
  },
  {
   "cell_type": "code",
   "execution_count": 16,
   "id": "1980c341-974a-4f72-87e2-4e48722b3e29",
   "metadata": {},
   "outputs": [],
   "source": [
    "# Count number of departures per stop and hour\n",
    "departures_per_hour = full_schedule_df.groupby([\"stop_id\", \"stop_name\", \"hour\"]).size()\\\n",
    "                                      .reset_index(name=\"num_departures\")"
   ]
  },
  {
   "cell_type": "code",
   "execution_count": 17,
   "id": "4958d62a-34e2-47fd-811e-678f26ed34d6",
   "metadata": {},
   "outputs": [
    {
     "data": {
      "text/plain": [
       "Index(['trip_id', 'arrival_time', 'departure_time', 'stop_id', 'stop_sequence',\n",
       "       'route_id', 'service_id', 'trip_headsign', 'direction_id', 'shape_id',\n",
       "       'wheelchair_accessible', 'agency_id', 'route_short_name',\n",
       "       'route_long_name', 'route_type', 'stop_code', 'stop_name', 'stop_lat',\n",
       "       'stop_lon', 'location_type', 'parent_station', 'wheelchair_boarding',\n",
       "       'hour', 'hour_mod'],\n",
       "      dtype='object')"
      ]
     },
     "execution_count": 17,
     "metadata": {},
     "output_type": "execute_result"
    }
   ],
   "source": [
    "full_schedule_df.columns"
   ]
  },
  {
   "cell_type": "code",
   "execution_count": 18,
   "id": "165965b6-4284-4cdd-be95-14887e0f489d",
   "metadata": {},
   "outputs": [
    {
     "data": {
      "text/plain": [
       "Index(['stop_id', 'stop_name', 'hour', 'num_departures'], dtype='object')"
      ]
     },
     "execution_count": 18,
     "metadata": {},
     "output_type": "execute_result"
    }
   ],
   "source": [
    "departures_per_hour.columns"
   ]
  },
  {
   "cell_type": "markdown",
   "id": "903598da-8b54-4bd5-8abe-f41918b4ab71",
   "metadata": {},
   "source": [
    "## Exploratory insight: Aggregated View"
   ]
  },
  {
   "cell_type": "markdown",
   "id": "dd13efab-ecce-43b4-b9f6-3f44a5582a43",
   "metadata": {},
   "source": [
    "<span style=\"font-size:18px\">**Goal:**\n",
    "In this section, we visualize hourly departure patterns for selected high-traffic stops and apply smoothing to highlight overall trends."
   ]
  },
  {
   "cell_type": "code",
   "execution_count": 19,
   "id": "ec611d9e-7ecf-4373-af96-4f372e8e28b0",
   "metadata": {},
   "outputs": [],
   "source": [
    "top_stops = departures_per_hour.groupby(\"stop_id\")[\"num_departures\"].sum().sort_values(ascending=False).head(3).index"
   ]
  },
  {
   "cell_type": "code",
   "execution_count": 20,
   "id": "e2d5fe23-7c32-40eb-9f70-0a9d844c92c8",
   "metadata": {},
   "outputs": [],
   "source": [
    "top_stops_df = departures_per_hour[departures_per_hour[\"stop_id\"].isin(top_stops)].sort_values(\"hour\")"
   ]
  },
  {
   "cell_type": "code",
   "execution_count": 21,
   "id": "436cef2d-8993-4be8-b9bf-95cc030d57bf",
   "metadata": {},
   "outputs": [
    {
     "data": {
      "text/html": [
       "<div>\n",
       "<style scoped>\n",
       "    .dataframe tbody tr th:only-of-type {\n",
       "        vertical-align: middle;\n",
       "    }\n",
       "\n",
       "    .dataframe tbody tr th {\n",
       "        vertical-align: top;\n",
       "    }\n",
       "\n",
       "    .dataframe thead th {\n",
       "        text-align: right;\n",
       "    }\n",
       "</style>\n",
       "<table border=\"1\" class=\"dataframe\">\n",
       "  <thead>\n",
       "    <tr style=\"text-align: right;\">\n",
       "      <th></th>\n",
       "      <th>stop_id</th>\n",
       "      <th>stop_name</th>\n",
       "      <th>hour</th>\n",
       "      <th>num_departures</th>\n",
       "    </tr>\n",
       "  </thead>\n",
       "  <tbody>\n",
       "    <tr>\n",
       "      <th>701</th>\n",
       "      <td>36</td>\n",
       "      <td>Station Lionel-Groulx</td>\n",
       "      <td>5</td>\n",
       "      <td>68</td>\n",
       "    </tr>\n",
       "    <tr>\n",
       "      <th>80352</th>\n",
       "      <td>54127</td>\n",
       "      <td>Station Henri-Bourassa</td>\n",
       "      <td>5</td>\n",
       "      <td>83</td>\n",
       "    </tr>\n",
       "    <tr>\n",
       "      <th>165404</th>\n",
       "      <td>60633</td>\n",
       "      <td>Angrignon / Tours Angrignon</td>\n",
       "      <td>5</td>\n",
       "      <td>122</td>\n",
       "    </tr>\n",
       "  </tbody>\n",
       "</table>\n",
       "</div>"
      ],
      "text/plain": [
       "       stop_id                    stop_name  hour  num_departures\n",
       "701         36        Station Lionel-Groulx     5              68\n",
       "80352    54127       Station Henri-Bourassa     5              83\n",
       "165404   60633  Angrignon / Tours Angrignon     5             122"
      ]
     },
     "execution_count": 21,
     "metadata": {},
     "output_type": "execute_result"
    }
   ],
   "source": [
    "top_stops_df.head(3)"
   ]
  },
  {
   "cell_type": "markdown",
   "id": "e50c5815-b0c9-4187-9806-13eda8cb5460",
   "metadata": {},
   "source": [
    "Smoothing with moving average (window = 3 hours, centered):\n",
    "\n",
    "For each hour, we take the average of that hour and its two neighbors, one before and one after (symmetric smoothing). We’re smoothing out noise and getting a clear trend line."
   ]
  },
  {
   "cell_type": "code",
   "execution_count": 22,
   "id": "6b861c28-62d9-4d6e-b166-aa842821c90d",
   "metadata": {},
   "outputs": [],
   "source": [
    "# Sort before applying rolling mean\n",
    "top_stops_df = top_stops_df.sort_values([\"stop_id\", \"hour\"])\n",
    "\n",
    "# Smooth with moving average (window = 3 hours, centered)\n",
    "top_stops_df[\"smoothed\"] = top_stops_df.groupby(\"stop_id\")[\"num_departures\"].rolling(window=3, center=True)\\\n",
    "                                       .mean().reset_index(level=0, drop=True)"
   ]
  },
  {
   "cell_type": "code",
   "execution_count": 23,
   "id": "6caf881e-e696-4b45-962e-ad3dc3fc6cff",
   "metadata": {},
   "outputs": [
    {
     "data": {
      "text/plain": [
       "Index(['stop_id', 'stop_name', 'hour', 'num_departures', 'smoothed'], dtype='object')"
      ]
     },
     "execution_count": 23,
     "metadata": {},
     "output_type": "execute_result"
    }
   ],
   "source": [
    "top_stops_df.columns"
   ]
  },
  {
   "cell_type": "code",
   "execution_count": 24,
   "id": "bf8d9c11-998a-47ff-94e8-1357cd021347",
   "metadata": {},
   "outputs": [
    {
     "data": {
      "image/png": "[encoded data removed]",
      "text/plain": [
       "<Figure size 640x480 with 1 Axes>"
      ]
     },
     "metadata": {},
     "output_type": "display_data"
    }
   ],
   "source": [
    "sns.lineplot(data=top_stops_df, x=\"hour\", y=\"smoothed\", hue=\"stop_name\")\n",
    "plt.title(\"Smoothed Hourly Departures for Top Stops\")\n",
    "plt.xlabel(\"Hour of Day\")\n",
    "plt.ylabel(\"Smoothed Departures\")\n",
    "plt.grid(True)\n",
    "plt.tight_layout()\n",
    "plt.show()"
   ]
  },
  {
   "cell_type": "markdown",
   "id": "2e543d27-2400-40c4-9a63-39f4623ef11d",
   "metadata": {},
   "source": [
    "## Investigating Top Service Hours per Stop"
   ]
  },
  {
   "cell_type": "code",
   "execution_count": 25,
   "id": "509fc834-2ce2-41d8-8021-00414e548e41",
   "metadata": {},
   "outputs": [],
   "source": [
    "# Reset index to make sure all columns are accessible\n",
    "top_stops_df = top_stops_df.reset_index(drop=True)"
   ]
  },
  {
   "cell_type": "code",
   "execution_count": 26,
   "id": "63e6e485-ea6f-42a6-9415-b849d74b4701",
   "metadata": {},
   "outputs": [],
   "source": [
    "# Get row indices where num_departures is max per stop_id\n",
    "max_idx = top_stops_df.groupby(\"stop_id\")[\"num_departures\"].idxmax()"
   ]
  },
  {
   "cell_type": "code",
   "execution_count": 27,
   "id": "6546ea34-0bf7-486e-841e-f458c0854623",
   "metadata": {},
   "outputs": [],
   "source": [
    "# Find the hour with max departures per stop\n",
    "busiest_hour = top_stops_df.iloc[max_idx][[\"stop_id\", \"stop_name\", \"hour\"]].rename(columns={\"hour\": \"busiest_hour\"})"
   ]
  },
  {
   "cell_type": "code",
   "execution_count": 28,
   "id": "6cf931e6-8737-4704-aba8-3e27dbba544e",
   "metadata": {},
   "outputs": [
    {
     "data": {
      "text/html": [
       "<div>\n",
       "<style scoped>\n",
       "    .dataframe tbody tr th:only-of-type {\n",
       "        vertical-align: middle;\n",
       "    }\n",
       "\n",
       "    .dataframe tbody tr th {\n",
       "        vertical-align: top;\n",
       "    }\n",
       "\n",
       "    .dataframe thead th {\n",
       "        text-align: right;\n",
       "    }\n",
       "</style>\n",
       "<table border=\"1\" class=\"dataframe\">\n",
       "  <thead>\n",
       "    <tr style=\"text-align: right;\">\n",
       "      <th></th>\n",
       "      <th>stop_id</th>\n",
       "      <th>stop_name</th>\n",
       "      <th>busiest_hour</th>\n",
       "    </tr>\n",
       "  </thead>\n",
       "  <tbody>\n",
       "    <tr>\n",
       "      <th>12</th>\n",
       "      <td>36</td>\n",
       "      <td>Station Lionel-Groulx</td>\n",
       "      <td>17</td>\n",
       "    </tr>\n",
       "    <tr>\n",
       "      <th>27</th>\n",
       "      <td>54127</td>\n",
       "      <td>Station Henri-Bourassa</td>\n",
       "      <td>7</td>\n",
       "    </tr>\n",
       "    <tr>\n",
       "      <th>51</th>\n",
       "      <td>60633</td>\n",
       "      <td>Angrignon / Tours Angrignon</td>\n",
       "      <td>9</td>\n",
       "    </tr>\n",
       "  </tbody>\n",
       "</table>\n",
       "</div>"
      ],
      "text/plain": [
       "   stop_id                    stop_name  busiest_hour\n",
       "12      36        Station Lionel-Groulx            17\n",
       "27   54127       Station Henri-Bourassa             7\n",
       "51   60633  Angrignon / Tours Angrignon             9"
      ]
     },
     "execution_count": 28,
     "metadata": {},
     "output_type": "execute_result"
    }
   ],
   "source": [
    "busiest_hour"
   ]
  },
  {
   "cell_type": "code",
   "execution_count": 29,
   "id": "066b099c-bc7f-46d3-a425-0d2834a2c37a",
   "metadata": {},
   "outputs": [],
   "source": [
    "# Merge back into the original DataFrame\n",
    "top_stops_df = top_stops_df.merge(busiest_hour[[\"stop_id\", \"busiest_hour\"]], on=\"stop_id\", how=\"left\")"
   ]
  },
  {
   "cell_type": "markdown",
   "id": "3480f7e2-7109-416a-a422-574c395e6c44",
   "metadata": {},
   "source": [
    "## Heatmap of All Stops vs Hours"
   ]
  },
  {
   "cell_type": "code",
   "execution_count": 30,
   "id": "3fd58eb9-6391-421f-8590-75a61f613d97",
   "metadata": {},
   "outputs": [
    {
     "data": {
      "text/html": [
       "<div>\n",
       "<style scoped>\n",
       "    .dataframe tbody tr th:only-of-type {\n",
       "        vertical-align: middle;\n",
       "    }\n",
       "\n",
       "    .dataframe tbody tr th {\n",
       "        vertical-align: top;\n",
       "    }\n",
       "\n",
       "    .dataframe thead th {\n",
       "        text-align: right;\n",
       "    }\n",
       "</style>\n",
       "<table border=\"1\" class=\"dataframe\">\n",
       "  <thead>\n",
       "    <tr style=\"text-align: right;\">\n",
       "      <th>hour</th>\n",
       "      <th>4</th>\n",
       "      <th>5</th>\n",
       "      <th>6</th>\n",
       "      <th>7</th>\n",
       "      <th>8</th>\n",
       "      <th>9</th>\n",
       "      <th>10</th>\n",
       "      <th>11</th>\n",
       "      <th>12</th>\n",
       "      <th>13</th>\n",
       "      <th>...</th>\n",
       "      <th>21</th>\n",
       "      <th>22</th>\n",
       "      <th>23</th>\n",
       "      <th>24</th>\n",
       "      <th>25</th>\n",
       "      <th>26</th>\n",
       "      <th>27</th>\n",
       "      <th>28</th>\n",
       "      <th>29</th>\n",
       "      <th>30</th>\n",
       "    </tr>\n",
       "    <tr>\n",
       "      <th>stop_name</th>\n",
       "      <th></th>\n",
       "      <th></th>\n",
       "      <th></th>\n",
       "      <th></th>\n",
       "      <th></th>\n",
       "      <th></th>\n",
       "      <th></th>\n",
       "      <th></th>\n",
       "      <th></th>\n",
       "      <th></th>\n",
       "      <th></th>\n",
       "      <th></th>\n",
       "      <th></th>\n",
       "      <th></th>\n",
       "      <th></th>\n",
       "      <th></th>\n",
       "      <th></th>\n",
       "      <th></th>\n",
       "      <th></th>\n",
       "      <th></th>\n",
       "      <th></th>\n",
       "    </tr>\n",
       "  </thead>\n",
       "  <tbody>\n",
       "    <tr>\n",
       "      <th>100e Avenue / Bureau</th>\n",
       "      <td>9.0</td>\n",
       "      <td>31.0</td>\n",
       "      <td>53.0</td>\n",
       "      <td>82.0</td>\n",
       "      <td>67.0</td>\n",
       "      <td>56.0</td>\n",
       "      <td>48.0</td>\n",
       "      <td>45.0</td>\n",
       "      <td>42.0</td>\n",
       "      <td>48.0</td>\n",
       "      <td>...</td>\n",
       "      <td>48.0</td>\n",
       "      <td>48.0</td>\n",
       "      <td>48.0</td>\n",
       "      <td>48.0</td>\n",
       "      <td>42.0</td>\n",
       "      <td>45.0</td>\n",
       "      <td>42.0</td>\n",
       "      <td>27.0</td>\n",
       "      <td>21.0</td>\n",
       "      <td>0.0</td>\n",
       "    </tr>\n",
       "    <tr>\n",
       "      <th>10e Avenue / Notre-Dame</th>\n",
       "      <td>3.0</td>\n",
       "      <td>18.0</td>\n",
       "      <td>45.0</td>\n",
       "      <td>56.0</td>\n",
       "      <td>48.0</td>\n",
       "      <td>39.0</td>\n",
       "      <td>48.0</td>\n",
       "      <td>39.0</td>\n",
       "      <td>48.0</td>\n",
       "      <td>45.0</td>\n",
       "      <td>...</td>\n",
       "      <td>48.0</td>\n",
       "      <td>48.0</td>\n",
       "      <td>48.0</td>\n",
       "      <td>66.0</td>\n",
       "      <td>27.0</td>\n",
       "      <td>15.0</td>\n",
       "      <td>0.0</td>\n",
       "      <td>0.0</td>\n",
       "      <td>0.0</td>\n",
       "      <td>0.0</td>\n",
       "    </tr>\n",
       "    <tr>\n",
       "      <th>10e Avenue / Provost</th>\n",
       "      <td>0.0</td>\n",
       "      <td>0.0</td>\n",
       "      <td>18.0</td>\n",
       "      <td>24.0</td>\n",
       "      <td>24.0</td>\n",
       "      <td>24.0</td>\n",
       "      <td>15.0</td>\n",
       "      <td>24.0</td>\n",
       "      <td>24.0</td>\n",
       "      <td>24.0</td>\n",
       "      <td>...</td>\n",
       "      <td>24.0</td>\n",
       "      <td>24.0</td>\n",
       "      <td>24.0</td>\n",
       "      <td>27.0</td>\n",
       "      <td>30.0</td>\n",
       "      <td>15.0</td>\n",
       "      <td>0.0</td>\n",
       "      <td>0.0</td>\n",
       "      <td>0.0</td>\n",
       "      <td>0.0</td>\n",
       "    </tr>\n",
       "    <tr>\n",
       "      <th>10e Avenue / Saint-Antoine</th>\n",
       "      <td>6.0</td>\n",
       "      <td>24.0</td>\n",
       "      <td>42.0</td>\n",
       "      <td>50.0</td>\n",
       "      <td>48.0</td>\n",
       "      <td>48.0</td>\n",
       "      <td>33.0</td>\n",
       "      <td>45.0</td>\n",
       "      <td>48.0</td>\n",
       "      <td>57.0</td>\n",
       "      <td>...</td>\n",
       "      <td>48.0</td>\n",
       "      <td>48.0</td>\n",
       "      <td>48.0</td>\n",
       "      <td>66.0</td>\n",
       "      <td>27.0</td>\n",
       "      <td>15.0</td>\n",
       "      <td>0.0</td>\n",
       "      <td>0.0</td>\n",
       "      <td>0.0</td>\n",
       "      <td>0.0</td>\n",
       "    </tr>\n",
       "    <tr>\n",
       "      <th>10e Avenue / Saint-Louis</th>\n",
       "      <td>0.0</td>\n",
       "      <td>0.0</td>\n",
       "      <td>18.0</td>\n",
       "      <td>24.0</td>\n",
       "      <td>24.0</td>\n",
       "      <td>24.0</td>\n",
       "      <td>24.0</td>\n",
       "      <td>15.0</td>\n",
       "      <td>24.0</td>\n",
       "      <td>24.0</td>\n",
       "      <td>...</td>\n",
       "      <td>24.0</td>\n",
       "      <td>24.0</td>\n",
       "      <td>24.0</td>\n",
       "      <td>33.0</td>\n",
       "      <td>24.0</td>\n",
       "      <td>15.0</td>\n",
       "      <td>0.0</td>\n",
       "      <td>0.0</td>\n",
       "      <td>0.0</td>\n",
       "      <td>0.0</td>\n",
       "    </tr>\n",
       "  </tbody>\n",
       "</table>\n",
       "<p>5 rows × 27 columns</p>\n",
       "</div>"
      ],
      "text/plain": [
       "hour                         4     5     6     7     8     9     10    11  \\\n",
       "stop_name                                                                   \n",
       "100e Avenue / Bureau        9.0  31.0  53.0  82.0  67.0  56.0  48.0  45.0   \n",
       "10e Avenue / Notre-Dame     3.0  18.0  45.0  56.0  48.0  39.0  48.0  39.0   \n",
       "10e Avenue / Provost        0.0   0.0  18.0  24.0  24.0  24.0  15.0  24.0   \n",
       "10e Avenue / Saint-Antoine  6.0  24.0  42.0  50.0  48.0  48.0  33.0  45.0   \n",
       "10e Avenue / Saint-Louis    0.0   0.0  18.0  24.0  24.0  24.0  24.0  15.0   \n",
       "\n",
       "hour                          12    13  ...    21    22    23    24    25  \\\n",
       "stop_name                               ...                                 \n",
       "100e Avenue / Bureau        42.0  48.0  ...  48.0  48.0  48.0  48.0  42.0   \n",
       "10e Avenue / Notre-Dame     48.0  45.0  ...  48.0  48.0  48.0  66.0  27.0   \n",
       "10e Avenue / Provost        24.0  24.0  ...  24.0  24.0  24.0  27.0  30.0   \n",
       "10e Avenue / Saint-Antoine  48.0  57.0  ...  48.0  48.0  48.0  66.0  27.0   \n",
       "10e Avenue / Saint-Louis    24.0  24.0  ...  24.0  24.0  24.0  33.0  24.0   \n",
       "\n",
       "hour                          26    27    28    29   30  \n",
       "stop_name                                                \n",
       "100e Avenue / Bureau        45.0  42.0  27.0  21.0  0.0  \n",
       "10e Avenue / Notre-Dame     15.0   0.0   0.0   0.0  0.0  \n",
       "10e Avenue / Provost        15.0   0.0   0.0   0.0  0.0  \n",
       "10e Avenue / Saint-Antoine  15.0   0.0   0.0   0.0  0.0  \n",
       "10e Avenue / Saint-Louis    15.0   0.0   0.0   0.0  0.0  \n",
       "\n",
       "[5 rows x 27 columns]"
      ]
     },
     "execution_count": 30,
     "metadata": {},
     "output_type": "execute_result"
    }
   ],
   "source": [
    "# Pivot the data to create a matrix (stops as rows, hours as columns, values are departure counts)\n",
    "pivot = departures_per_hour.pivot_table(index=\"stop_name\", columns=\"hour\", aggfunc=\"sum\",\n",
    "                                        values=\"num_departures\").fillna(0)\n",
    "\n",
    "pivot.head()"
   ]
  },
  {
   "cell_type": "code",
   "execution_count": 31,
   "id": "70aa527b-9aa5-4afb-87c6-46540fbb9e3d",
   "metadata": {},
   "outputs": [
    {
     "data": {
      "text/plain": [
       "8790"
      ]
     },
     "execution_count": 31,
     "metadata": {},
     "output_type": "execute_result"
    }
   ],
   "source": [
    "departures_per_hour[\"stop_id\"].nunique()"
   ]
  },
  {
   "cell_type": "markdown",
   "id": "9efcb749-46fa-462c-9e8b-4791a84087cf",
   "metadata": {},
   "source": [
    "This is too much data for the heatmap to display clearly, so we limit it to the 30 busiest stops."
   ]
  },
  {
   "cell_type": "code",
   "execution_count": 32,
   "id": "fe05a4d0-053c-4a6d-8f89-f5c900cd16f5",
   "metadata": {},
   "outputs": [],
   "source": [
    "# Get top 30 busiest stops\n",
    "top_stops = departures_per_hour.groupby(\"stop_name\")[\"num_departures\"].sum().sort_values(ascending=False)\\\n",
    "                               .head(30).index\n",
    "\n",
    "# Filter data\n",
    "filtered_df = departures_per_hour[departures_per_hour[\"stop_name\"].isin(top_stops)]\n",
    "\n",
    "# Create pivot for top stops (30)\n",
    "pivot = filtered_df.pivot_table(\n",
    "    index=\"stop_name\", columns=\"hour\", values=\"num_departures\", aggfunc=\"sum\"\n",
    ").fillna(0)"
   ]
  },
  {
   "cell_type": "code",
   "execution_count": 33,
   "id": "d82e6483-7149-49bc-b63a-d15b2db733e9",
   "metadata": {},
   "outputs": [
    {
     "data": {
      "image/png": "[encoded data removed]",
      "text/plain": [
       "<Figure size 1200x800 with 2 Axes>"
      ]
     },
     "metadata": {},
     "output_type": "display_data"
    }
   ],
   "source": [
    "plt.figure(figsize=(12, 8))\n",
    "sns.heatmap(pivot, cmap=\"YlOrRd\", linewidths=0.2)\n",
    "plt.title(\"Stop vs Hour: Scheduled Departures\")\n",
    "plt.xlabel(\"Hour of Day\")\n",
    "plt.ylabel(\"Stop Name\")\n",
    "plt.tight_layout()\n",
    "plt.show()"
   ]
  },
  {
   "cell_type": "markdown",
   "id": "a6e74d5c-a5db-46bc-b52c-2a3eb01d0678",
   "metadata": {},
   "source": [
    "# ML Modelling & Prediction"
   ]
  },
  {
   "cell_type": "code",
   "execution_count": 34,
   "id": "ac44a96f-a32b-42de-a734-601780c2d33a",
   "metadata": {},
   "outputs": [
    {
     "data": {
      "text/plain": [
       "Index(['stop_id', 'stop_name', 'hour', 'num_departures', 'smoothed',\n",
       "       'busiest_hour'],\n",
       "      dtype='object')"
      ]
     },
     "execution_count": 34,
     "metadata": {},
     "output_type": "execute_result"
    }
   ],
   "source": [
    "top_stops_df.columns"
   ]
  },
  {
   "cell_type": "code",
   "execution_count": 35,
   "id": "8d22d053-838e-497c-90e7-3435524ec82e",
   "metadata": {},
   "outputs": [
    {
     "data": {
      "text/plain": [
       "(69, 6)"
      ]
     },
     "execution_count": 35,
     "metadata": {},
     "output_type": "execute_result"
    }
   ],
   "source": [
    "top_stops_df.shape"
   ]
  },
  {
   "cell_type": "markdown",
   "id": "b8d06098-89b7-4745-8cd2-748b12e88991",
   "metadata": {},
   "source": [
    "## Temporal Feature Engineering"
   ]
  },
  {
   "cell_type": "markdown",
   "id": "0877480d-b08a-443b-b98a-57414c17ee68",
   "metadata": {},
   "source": [
    "Although our data is not time series data at this point (calender.txt is not merged yet), we can treat it as such meaning we can treat each stop's hourly service pattern as a synthetic time series for modeling purposes. we can create lag features as we expect the current hour's value to depend on the previous hour’s. "
   ]
  },
  {
   "cell_type": "code",
   "execution_count": 36,
   "id": "6ae99a57-2b0d-4b57-a2c9-f27626085ead",
   "metadata": {},
   "outputs": [],
   "source": [
    "# Sort values\n",
    "top_stops_df = top_stops_df.sort_values([\"stop_id\", \"hour\"])\n",
    "\n",
    "# Lag features (previous hour’s departures)\n",
    "top_stops_df[\"lag_1\"] = top_stops_df.groupby(\"stop_id\")[\"num_departures\"].shift(1)\n",
    "top_stops_df[\"lag_2\"] = top_stops_df.groupby(\"stop_id\")[\"num_departures\"].shift(2)"
   ]
  },
  {
   "cell_type": "markdown",
   "id": "daedf016-77fd-4c0d-b8ab-2db533cd65ce",
   "metadata": {},
   "source": [
    "we cannot use the smoothed feature we created previously as it was calculated using a centred rolling mean which will result in data leakage when it comes to forecasting. Here, we create another smoothed(rolling) feature using only the past hours."
   ]
  },
  {
   "cell_type": "code",
   "execution_count": 37,
   "id": "a35c9820-0460-4967-be9e-af93816742c1",
   "metadata": {},
   "outputs": [],
   "source": [
    "top_stops_df.drop(columns=[\"smoothed\"], inplace= True)"
   ]
  },
  {
   "cell_type": "markdown",
   "id": "2b3f71ac-2954-468e-b161-b4e6b622eb74",
   "metadata": {},
   "source": [
    "When using rolling as a feature, we want it to capture meaningful trends.(3-4 hours is balanced). If it is too small(2 hours), it may not add value and too large(4+ hours) window may over-smooth and wash out important local variations. However, as we will use tree-based models for forecasting, we create features with multiple window(2-3-4 hours) and let the model choose the most contributing features. "
   ]
  },
  {
   "cell_type": "code",
   "execution_count": 38,
   "id": "c611fe87-02f8-45c4-911c-bf9e2ec7c508",
   "metadata": {},
   "outputs": [],
   "source": [
    "# Simple rolling average\n",
    "top_stops_df[\"rolling_2h\"] = top_stops_df.groupby(\"stop_id\")[\"num_departures\"].rolling(window=2).mean().reset_index(level=0, drop=True)\n",
    "top_stops_df[\"rolling_3h\"] = top_stops_df.groupby(\"stop_id\")[\"num_departures\"].rolling(window=3).mean().reset_index(level=0, drop=True)\n",
    "top_stops_df[\"rolling_4h\"] = top_stops_df.groupby(\"stop_id\")[\"num_departures\"].rolling(window=4).mean().reset_index(level=0, drop=True)\n",
    "\n",
    "# Drop rows with NaNs caused by shift/rolling (not the best approach!)\n",
    "top_stops_df = top_stops_df.dropna(subset=[\"lag_1\", \"lag_2\", \"rolling_3h\"])"
   ]
  },
  {
   "cell_type": "markdown",
   "id": "6e4cb655-764e-4dcb-9788-236becb65420",
   "metadata": {},
   "source": [
    "The busiest_hour feature, by itself, is static and doesn't vary by hour, so it’s not directly useful in time-based modeling.\n",
    "However, we can extract a more dynamic boolean feature from it, indicating whether the current hour is the busiest hour for that stop, which may help the model capture peak activity patterns."
   ]
  },
  {
   "cell_type": "code",
   "execution_count": 39,
   "id": "663cd0f5-cb03-4a4b-86ef-bc31c7952c90",
   "metadata": {},
   "outputs": [],
   "source": [
    "top_stops_df[\"is_busiest_hour\"] = (top_stops_df[\"hour\"] == top_stops_df[\"busiest_hour\"]).astype(int)"
   ]
  },
  {
   "cell_type": "code",
   "execution_count": 40,
   "id": "ad91897c-fa74-4eae-894a-bedad8f47ba4",
   "metadata": {},
   "outputs": [
    {
     "data": {
      "text/plain": [
       "3"
      ]
     },
     "execution_count": 40,
     "metadata": {},
     "output_type": "execute_result"
    }
   ],
   "source": [
    "top_stops_df[\"stop_id\"].nunique()"
   ]
  },
  {
   "cell_type": "code",
   "execution_count": 41,
   "id": "b277fb88-5813-49c0-998b-e4c082ba3bf3",
   "metadata": {},
   "outputs": [
    {
     "data": {
      "text/plain": [
       "Index(['stop_id', 'stop_name', 'hour', 'num_departures', 'busiest_hour',\n",
       "       'lag_1', 'lag_2', 'rolling_2h', 'rolling_3h', 'rolling_4h',\n",
       "       'is_busiest_hour'],\n",
       "      dtype='object')"
      ]
     },
     "execution_count": 41,
     "metadata": {},
     "output_type": "execute_result"
    }
   ],
   "source": [
    "top_stops_df.columns"
   ]
  },
  {
   "cell_type": "markdown",
   "id": "05aa6935-f14e-4804-95f7-b226a0a1ae78",
   "metadata": {},
   "source": [
    "It's time to merge the engineered dataset back to the original one. First, we make sure stop_id and hour features have the same format in both datasets."
   ]
  },
  {
   "cell_type": "code",
   "execution_count": 42,
   "id": "174bcb80-48f6-45fa-b80c-af15c0599fc5",
   "metadata": {},
   "outputs": [],
   "source": [
    "full_schedule_df[\"stop_id\"] = full_schedule_df[\"stop_id\"].astype(str)\n",
    "top_stops_df[\"stop_id\"] = top_stops_df[\"stop_id\"].astype(str)\n",
    "\n",
    "# Creating \"hour\" in the main dataset \n",
    "full_schedule_df[\"hour\"] = full_schedule_df[\"departure_time\"].str.slice(0, 2).astype(\"int32\")"
   ]
  },
  {
   "cell_type": "code",
   "execution_count": 43,
   "id": "f888d78d-da95-4f0a-990f-995573f316fc",
   "metadata": {},
   "outputs": [],
   "source": [
    "# As the data in top_stops_df_model is aggregated by both stop and hour, we need to use both when merging datasets\n",
    "df = pd.merge(\n",
    "    full_schedule_df,\n",
    "    top_stops_df[[\"stop_id\", \"hour\", \"num_departures\", \"rolling_2h\", \"rolling_3h\", \"rolling_4h\", \"lag_1\", \"lag_2\", \"busiest_hour\", \"is_busiest_hour\"]],\n",
    "    on=[\"stop_id\", \"hour\"],\n",
    "    how=\"left\")"
   ]
  },
  {
   "cell_type": "code",
   "execution_count": 44,
   "id": "96a728f3-89f7-467c-92eb-5520815efe15",
   "metadata": {},
   "outputs": [
    {
     "data": {
      "text/plain": [
       "Index(['trip_id', 'arrival_time', 'departure_time', 'stop_id', 'stop_sequence',\n",
       "       'route_id', 'service_id', 'trip_headsign', 'direction_id', 'shape_id',\n",
       "       'wheelchair_accessible', 'agency_id', 'route_short_name',\n",
       "       'route_long_name', 'route_type', 'stop_code', 'stop_name', 'stop_lat',\n",
       "       'stop_lon', 'location_type', 'parent_station', 'wheelchair_boarding',\n",
       "       'hour', 'hour_mod', 'num_departures', 'rolling_2h', 'rolling_3h',\n",
       "       'rolling_4h', 'lag_1', 'lag_2', 'busiest_hour', 'is_busiest_hour'],\n",
       "      dtype='object')"
      ]
     },
     "execution_count": 44,
     "metadata": {},
     "output_type": "execute_result"
    }
   ],
   "source": [
    "df.columns"
   ]
  },
  {
   "cell_type": "markdown",
   "id": "e4e7383c-0960-4c64-8825-8fb1dc2c2d66",
   "metadata": {},
   "source": [
    "Right now, df has one row per trip, this is fine for individual trip-level modeling, but it’s not yet ready for forecasting number of departures per hour unless we first aggregate df to this level (we will forecast hourly departure volume)."
   ]
  },
  {
   "cell_type": "code",
   "execution_count": 45,
   "id": "cda8e241-2fb6-48ad-acc1-0c402b8b12ed",
   "metadata": {},
   "outputs": [],
   "source": [
    "top_stop_ids = top_stops_df[\"stop_id\"].unique()"
   ]
  },
  {
   "cell_type": "code",
   "execution_count": 46,
   "id": "4af33d6e-dea1-4dc0-ab84-917748dcc4da",
   "metadata": {},
   "outputs": [],
   "source": [
    "df_top = df[df[\"stop_id\"].isin(top_stop_ids)]"
   ]
  },
  {
   "cell_type": "code",
   "execution_count": 47,
   "id": "7fa5fef1-cc7e-4293-b7f6-7cbded651586",
   "metadata": {},
   "outputs": [],
   "source": [
    "#df_top.columns"
   ]
  },
  {
   "cell_type": "code",
   "execution_count": 48,
   "id": "45d83eb4-b201-4a26-a586-8eb6a1d63b4a",
   "metadata": {},
   "outputs": [],
   "source": [
    "# Aggregate the dataset to have one row per (stop_id, hour)\n",
    "# For each column, take the first value within each group\n",
    "df_model = df_top.groupby([\"stop_id\", \"hour\"]).agg({\n",
    "    'route_id': 'first',\n",
    "    'service_id': 'first',\n",
    "    'trip_headsign': 'first',\n",
    "    'direction_id': 'first',\n",
    "    'shape_id': 'first',\n",
    "    'wheelchair_accessible': 'first',\n",
    "    'agency_id': 'first',\n",
    "    'route_short_name': 'first',\n",
    "    'route_long_name': 'first',\n",
    "    'route_type': 'first',\n",
    "    'stop_code': 'first',\n",
    "    'stop_name': 'first',\n",
    "    'stop_lat': 'first',\n",
    "    'stop_lon': 'first',\n",
    "    'location_type': 'first',\n",
    "    'parent_station': 'first',\n",
    "    'wheelchair_boarding': 'first',\n",
    "    'hour_mod': 'first',\n",
    "    'num_departures': 'first',\n",
    "    'rolling_2h': 'first',\n",
    "    'rolling_3h': 'first',\n",
    "    'rolling_4h': 'first',\n",
    "    'lag_1': 'first',\n",
    "    'lag_2': 'first',\n",
    "    'busiest_hour': 'first',\n",
    "    'is_busiest_hour': 'first'\n",
    "}).reset_index()"
   ]
  },
  {
   "cell_type": "code",
   "execution_count": 49,
   "id": "ce7ed9be-81ac-4f56-b1ce-dff7159a4ac4",
   "metadata": {},
   "outputs": [
    {
     "data": {
      "text/plain": [
       "stop_id\n",
       "36       25\n",
       "54127    22\n",
       "60633    22\n",
       "Name: hour, dtype: int64"
      ]
     },
     "execution_count": 49,
     "metadata": {},
     "output_type": "execute_result"
    }
   ],
   "source": [
    "df_model.groupby(\"stop_id\")[\"hour\"].nunique()"
   ]
  },
  {
   "cell_type": "code",
   "execution_count": 50,
   "id": "df3669e4-bde0-4f94-ad8c-33cd293e8869",
   "metadata": {},
   "outputs": [
    {
     "data": {
      "text/plain": [
       "Index(['stop_id', 'hour', 'route_id', 'service_id', 'trip_headsign',\n",
       "       'direction_id', 'shape_id', 'wheelchair_accessible', 'agency_id',\n",
       "       'route_short_name', 'route_long_name', 'route_type', 'stop_code',\n",
       "       'stop_name', 'stop_lat', 'stop_lon', 'location_type', 'parent_station',\n",
       "       'wheelchair_boarding', 'hour_mod', 'num_departures', 'rolling_2h',\n",
       "       'rolling_3h', 'rolling_4h', 'lag_1', 'lag_2', 'busiest_hour',\n",
       "       'is_busiest_hour'],\n",
       "      dtype='object')"
      ]
     },
     "execution_count": 50,
     "metadata": {},
     "output_type": "execute_result"
    }
   ],
   "source": [
    "df_model.columns"
   ]
  },
  {
   "cell_type": "markdown",
   "id": "3969178d-05e3-44c1-82bf-bacb42fb000c",
   "metadata": {},
   "source": [
    "<span style=\"font-size:18px\">**Note**\n",
    "\n",
    "Since we're treating hours of the day as time series data, we can't just split the train and test sets randomly. Instead, we’re using the earlier hours to forecast the tail end of the service day. We’re skipping late-night and post-midnight hours for now, since their behavior is quite different from the rest of the day. These could be included in future analyses once we bring in full datetime info, things like day of the week or time of month would give more context to help model those off-hours more accurately."
   ]
  },
  {
   "cell_type": "code",
   "execution_count": 51,
   "id": "ced8b41b-d1dc-481c-9842-3d52543689b4",
   "metadata": {},
   "outputs": [],
   "source": [
    "# Split by hour (train: 4–20, test: 21–24)\n",
    "train_df = df_model[df_model[\"hour\"].between(4, 20)]\n",
    "test_df = df_model[df_model[\"hour\"].between(21, 24)]"
   ]
  },
  {
   "cell_type": "markdown",
   "id": "ef004bd5-63cb-4d49-bfa8-95c48221ac73",
   "metadata": {},
   "source": [
    "**Reasons to use all features:** We’re using a tree-based model (like Random Forest or XGBoost), which handles, mixed types (numeric + categorical), redundant features, and unimportant features. We let the model decide what’s important."
   ]
  },
  {
   "cell_type": "code",
   "execution_count": 52,
   "id": "d91e7fe7-f1fc-49ed-b244-f3135a1a7938",
   "metadata": {},
   "outputs": [],
   "source": [
    "features  = ['stop_id', 'hour', 'direction_id', 'route_type',\n",
    "            'wheelchair_accessible', 'location_type', 'wheelchair_boarding',\n",
    "            'hour_mod', 'rolling_2h', 'rolling_3h', 'rolling_4h',\n",
    "            'lag_1', 'lag_2', 'busiest_hour', 'is_busiest_hour']\n",
    "\n",
    "target = \"num_departures\""
   ]
  },
  {
   "cell_type": "code",
   "execution_count": 53,
   "id": "de24268a-0ae8-4752-ba72-601e376a889a",
   "metadata": {},
   "outputs": [],
   "source": [
    "train_df = train_df.dropna(subset=[\"num_departures\"])\n",
    "test_df = test_df.dropna(subset=[\"num_departures\"])\n",
    "\n",
    "# Prepare inputs\n",
    "X_train = train_df[features]\n",
    "y_train = train_df[target]\n",
    "\n",
    "X_test = test_df[features]\n",
    "y_test = test_df[target]"
   ]
  },
  {
   "cell_type": "code",
   "execution_count": 54,
   "id": "0c5f164c-571c-4817-8be6-8ff916c2d4de",
   "metadata": {},
   "outputs": [
    {
     "name": "stdout",
     "output_type": "stream",
     "text": [
      "0 missing values in y_train\n",
      "3 missing values in X_train\n"
     ]
    }
   ],
   "source": [
    "print(y_train.isna().sum(), \"missing values in y_train\")\n",
    "print(X_train.isna().sum().sum(), \"missing values in X_train\")"
   ]
  },
  {
   "cell_type": "markdown",
   "id": "734cb0ae-7adc-4a1e-80e4-a27a4f4985b7",
   "metadata": {},
   "source": [
    "## Model Training and Evaluation"
   ]
  },
  {
   "cell_type": "markdown",
   "id": "461d6253-cbd6-4d8e-a20a-8f1db41352be",
   "metadata": {},
   "source": [
    "<span style=\"font-size:20px\">**Forecasting Goal and Scope Reminder**\n",
    "\n",
    "The goal of this forecasting task is not to build a comprehensive model over the entire dataset, but rather to demonstrate a practical application of predictive modeling. We focus on a pretty small subset of the data and forecast the number of scheduled departures at each hour of the day.\n",
    "\n",
    "Given the small size and low complexity of the dataset, we intentionally do not deep-dive into model optimization. This includes skipping validation set creation, cross-validation, hyperparameter tuning, or advanced models.\n",
    "\n",
    "Instead, the objective is to showcase a solid understanding of the prediction pipeline, from data preprocessing and feature engineering to model training and evaluation, using interpretable techniques like Random Forests and clear visualizations."
   ]
  },
  {
   "cell_type": "code",
   "execution_count": 55,
   "id": "b3a37701-bcc3-422d-895b-8ccb38332576",
   "metadata": {},
   "outputs": [],
   "source": [
    "from sklearn.ensemble import RandomForestRegressor\n",
    "from sklearn.metrics import mean_absolute_error, mean_squared_error\n",
    "import numpy as np\n",
    "\n",
    "# Train the model\n",
    "model = RandomForestRegressor(n_estimators=100, random_state=42)\n",
    "model.fit(X_train, y_train)\n",
    "\n",
    "# Predict\n",
    "y_pred = model.predict(X_test)"
   ]
  },
  {
   "cell_type": "code",
   "execution_count": 56,
   "id": "f89a1dd9-40d1-4ca7-b95d-e3bd075be6ce",
   "metadata": {},
   "outputs": [
    {
     "name": "stdout",
     "output_type": "stream",
     "text": [
      "MAE: 23.95\n",
      "RMSE: 33.76\n"
     ]
    }
   ],
   "source": [
    "mae = mean_absolute_error(y_test, y_pred)\n",
    "rmse = np.sqrt(mean_squared_error(y_test, y_pred))\n",
    "\n",
    "print(f\"MAE: {mae:.2f}\")\n",
    "print(f\"RMSE: {rmse:.2f}\")"
   ]
  },
  {
   "cell_type": "markdown",
   "id": "839cfa4f-dce9-4bd9-a4d0-74a0446e4f9e",
   "metadata": {},
   "source": [
    "<span style=\"font-size:18px\">**Error Interpretation:**\n",
    "\n",
    "MAE: 23.95\n",
    "\n",
    "On average, the model is off by about 24 departures per hour at each stop.\n",
    "\n",
    "RMSE: 33.76\n",
    "\n",
    "The model’s typical error magnitude is ~34 departures, with more weight on large mistakes."
   ]
  },
  {
   "cell_type": "markdown",
   "id": "ee7612b1-8f2f-49ea-8f93-225943939915",
   "metadata": {},
   "source": [
    "## Feature Importance"
   ]
  },
  {
   "cell_type": "code",
   "execution_count": 57,
   "id": "3b6c8ba4-e7cc-4a1f-89e1-eb067a8e4578",
   "metadata": {},
   "outputs": [
    {
     "data": {
      "image/png": "[encoded data removed]",
      "text/plain": [
       "<Figure size 500x400 with 1 Axes>"
      ]
     },
     "metadata": {},
     "output_type": "display_data"
    }
   ],
   "source": [
    "# Get feature importances\n",
    "importances = model.feature_importances_\n",
    "\n",
    "# Create a DataFrame to hold the feature names and their importance scores\n",
    "feature_importance_df = pd.DataFrame({\n",
    "    'Feature': X_train.columns,\n",
    "    'Importance': importances\n",
    "})\n",
    "\n",
    "feature_importance_df = feature_importance_df.head(10)\n",
    "# Sort the DataFrame by importance score in descending order\n",
    "feature_importance_df = feature_importance_df.sort_values(by='Importance', ascending=False)\n",
    "\n",
    "# Plot feature importance\n",
    "plt.figure(figsize=(5,4), facecolor=\"lightgray\")\n",
    "plt.barh(feature_importance_df['Feature'], feature_importance_df['Importance'], color='red')\n",
    "plt.xlabel('Feature Importance Score')\n",
    "plt.ylabel('Features')\n",
    "plt.title('Feature Importance from Random Forest')\n",
    "\n",
    "# Display the highest importance at the top\n",
    "plt.gca().invert_yaxis()\n",
    "plt.show()"
   ]
  },
  {
   "cell_type": "markdown",
   "id": "3b9d4736-9624-4e3f-9a96-a8fc3a6e0832",
   "metadata": {},
   "source": [
    "<span style=\"font-size:18px\">**Feature Importance Insights:**\n",
    "\n",
    "The most predictive feature is rolling_2h, suggesting that short-term historical averages are highly effective.\n",
    "\n",
    "stop_id ranking high shows that location-specific patterns dominate forecasting.\n",
    "\n",
    "lag_1 and busiest_hour also help, indicating that recent values and knowledge of peak time are meaningful.\n",
    "\n",
    "Accessibility-related features contributed almost nothing to predicting volume."
   ]
  },
  {
   "cell_type": "markdown",
   "id": "72d83f29-4ecc-4c8b-934e-aaf9e3432a37",
   "metadata": {},
   "source": [
    "## Plotting Model Behavior"
   ]
  },
  {
   "cell_type": "code",
   "execution_count": 58,
   "id": "c43a62dc-5ab3-4ad8-9a97-16dcce59e413",
   "metadata": {},
   "outputs": [
    {
     "data": {
      "image/png": "[encoded data removed]",
      "text/plain": [
       "<Figure size 700x500 with 1 Axes>"
      ]
     },
     "metadata": {},
     "output_type": "display_data"
    }
   ],
   "source": [
    "plt.figure(figsize=(7,5))\n",
    "sns.scatterplot(x=y_test, y=y_pred, alpha=0.4)\n",
    "plt.plot([y_test.min(), y_test.max()], [y_test.min(), y_test.max()], '--', color='red')\n",
    "plt.xlabel(\"Actual Departures\")\n",
    "plt.ylabel(\"Predicted Departures\")\n",
    "plt.title(\"Predicted vs. Actual Departures\")\n",
    "plt.grid(True)\n",
    "plt.tight_layout()\n",
    "plt.show()"
   ]
  },
  {
   "cell_type": "markdown",
   "id": "931f6d62-b09e-4eb5-8800-c103edbecb62",
   "metadata": {},
   "source": [
    "<span style=\"font-size:18px\">**How to read the plot:**\n",
    "\n",
    "Blue dots: Each dot is one prediction.\n",
    "\n",
    "- X-axis: the true number of departures\n",
    "- Y-axis: what the model predicted\n",
    "\n",
    "Red dashed line: The \"perfect prediction line.\"\n",
    "\n",
    "Several blue spots are close to the red line at the start, but drift away further down. Which means:\n",
    "\n",
    "- The model does better at predicting low departure volumes, but it struggles more as the actual number increases, possibly underestimating higher values."
   ]
  },
  {
   "cell_type": "markdown",
   "id": "b9f91f68-79c7-4118-a890-16f5d2c659de",
   "metadata": {},
   "source": [
    "# Next Steps"
   ]
  },
  {
   "cell_type": "markdown",
   "id": "a21b9578-8356-40e4-969f-14e713122580",
   "metadata": {},
   "source": [
    "This project focused on forecasting hourly departures at busy stops using GTFS data. To take it further, we could:\n",
    "\n",
    "1. **Add More Time Context**\n",
    "\n",
    "Include weekday/weekend info using GTFS calendar files.\n",
    "\n",
    "Use actual timestamps for better time-series modeling.\n",
    "\n",
    "2. **Scale to More Stops**\n",
    "\n",
    "Apply forecasting to more stops or the full network.\n",
    "\n",
    "Group similar stops and build general models.\n",
    "\n",
    "3. **Predict More Targets**\n",
    "\n",
    "Try new ML tasks like predicting delays, crowding, or accessibility issues.\n",
    "\n",
    "4. **Try Other Models**\n",
    "\n",
    "Test models like XGBoost, ARIMA, or even deep learning (if data grows).\n",
    "\n",
    "5. **Improve Evaluation**\n",
    "\n",
    "Use cross-validation and focus on business-relevant metrics (like accuracy during rush hour).\n",
    "\n",
    "<span style=\"font-size:20px\">**Summary**\n",
    "\n",
    "This forecasting model is a starting point. It can grow into a more advanced pipeline to help improve service reliability, accessibility, and planning."
   ]
  },
  {
   "cell_type": "markdown",
   "id": "aaa0d391-dd98-4629-82a9-fe129b835f7d",
   "metadata": {},
   "source": [
    "## Preparing Data for SQL-based Analysis & Tableau Visualizaton "
   ]
  },
  {
   "cell_type": "markdown",
   "id": "908b5c06-6c50-4eee-af00-419d2db49ae1",
   "metadata": {},
   "source": [
    "**Merging calender to the current data**"
   ]
  },
  {
   "cell_type": "code",
   "execution_count": 59,
   "id": "7b35091c-3007-4b5f-a29f-6a3d7190a934",
   "metadata": {},
   "outputs": [
    {
     "data": {
      "text/plain": [
       "Index(['trip_id', 'arrival_time', 'departure_time', 'stop_id', 'stop_sequence',\n",
       "       'route_id', 'service_id', 'trip_headsign', 'direction_id', 'shape_id',\n",
       "       'wheelchair_accessible', 'agency_id', 'route_short_name',\n",
       "       'route_long_name', 'route_type', 'stop_code', 'stop_name', 'stop_lat',\n",
       "       'stop_lon', 'location_type', 'parent_station', 'wheelchair_boarding',\n",
       "       'hour', 'hour_mod'],\n",
       "      dtype='object')"
      ]
     },
     "execution_count": 59,
     "metadata": {},
     "output_type": "execute_result"
    }
   ],
   "source": [
    "full_schedule_df.columns"
   ]
  },
  {
   "cell_type": "code",
   "execution_count": 60,
   "id": "28ff7939-5110-4bc5-a337-be0e06f6adbc",
   "metadata": {},
   "outputs": [],
   "source": [
    "# Load calendar and trips data\n",
    "calendar = gtfs_dfs[\"calendar\"]\n",
    "trips = gtfs_dfs[\"trips\"]\n",
    "\n",
    "# Merge trips with calendar on service_id\n",
    "trips_with_days = pd.merge(trips, calendar, on=\"service_id\", how=\"left\")\n",
    "\n",
    "weekday_cols = ['monday', 'tuesday', 'wednesday', 'thursday', 'friday', 'saturday', 'sunday']\n",
    "full_schedule_df = full_schedule_df.drop(columns=[col for col in weekday_cols if col in full_schedule_df.columns])\n",
    "\n",
    "# Merge the weekday info back into the full schedule\n",
    "full_schedule_gtfs = pd.merge(\n",
    "    full_schedule_df,\n",
    "    trips_with_days[[\"trip_id\", \"monday\", \"tuesday\", \"wednesday\", \"thursday\", \"friday\", \"saturday\", \"sunday\"]],\n",
    "    on=\"trip_id\",\n",
    "    how=\"left\"\n",
    ")"
   ]
  },
  {
   "cell_type": "code",
   "execution_count": 61,
   "id": "2a53e89f-358d-4257-a02e-479a66bcdb2e",
   "metadata": {},
   "outputs": [],
   "source": [
    "columns_to_exclude_tableau=[\"parent_station\", \"arrival_time\", \"hour_mod\", \"service_id\", \"shape_id\", \\\n",
    "                            \"stop_sequence\", \"location_type\", \"num_departures\"]"
   ]
  },
  {
   "cell_type": "code",
   "execution_count": 62,
   "id": "db82794d-2112-4932-b6b2-78dbed91184c",
   "metadata": {},
   "outputs": [],
   "source": [
    "keep = ['stop_id', 'stop_name', 'stop_lat', 'stop_lon', 'route_id', 'route_short_name',\n",
    "             'route_long_name', 'route_type', 'departure_time', 'hour', \n",
    "             'wheelchair_boarding', 'monday', 'tuesday', 'wednesday', 'thursday', 'friday', 'saturday', 'sunday',\n",
    "            'trip_id', 'trip_headsign', 'direction_id', 'agency_id', 'stop_code', 'wheelchair_accessible']"
   ]
  },
  {
   "cell_type": "code",
   "execution_count": 63,
   "id": "075e0692-873c-47ea-a05c-1543464eb2c7",
   "metadata": {},
   "outputs": [],
   "source": [
    "# Count how many departures (rows) happen at each stop overall \n",
    "busiest_stops = full_schedule_gtfs.groupby(\"stop_id\")[\"departure_time\"].count().sort_values(ascending=False).head(30).index"
   ]
  },
  {
   "cell_type": "code",
   "execution_count": 64,
   "id": "89a1bfd8-6649-49e5-a7cc-855755f2f8ba",
   "metadata": {},
   "outputs": [],
   "source": [
    "df_30_top_stops = full_schedule_gtfs[full_schedule_gtfs[\"stop_id\"].isin(busiest_stops)]"
   ]
  },
  {
   "cell_type": "code",
   "execution_count": 65,
   "id": "3382aa13-ea88-4816-a2fe-33a3f5616537",
   "metadata": {},
   "outputs": [
    {
     "data": {
      "text/plain": [
       "Index(['trip_id', 'arrival_time', 'departure_time', 'stop_id', 'stop_sequence',\n",
       "       'route_id', 'service_id', 'trip_headsign', 'direction_id', 'shape_id',\n",
       "       'wheelchair_accessible', 'agency_id', 'route_short_name',\n",
       "       'route_long_name', 'route_type', 'stop_code', 'stop_name', 'stop_lat',\n",
       "       'stop_lon', 'location_type', 'parent_station', 'wheelchair_boarding',\n",
       "       'hour', 'hour_mod', 'monday', 'tuesday', 'wednesday', 'thursday',\n",
       "       'friday', 'saturday', 'sunday'],\n",
       "      dtype='object')"
      ]
     },
     "execution_count": 65,
     "metadata": {},
     "output_type": "execute_result"
    }
   ],
   "source": [
    "df_30_top_stops.columns"
   ]
  },
  {
   "cell_type": "code",
   "execution_count": 66,
   "id": "5fb62d4c-716a-4aeb-9cc0-8af20b210e1a",
   "metadata": {},
   "outputs": [
    {
     "name": "stdout",
     "output_type": "stream",
     "text": [
      "<class 'pandas.core.frame.DataFrame'>\n",
      "Index: 107548 entries, 8770 to 6261234\n",
      "Data columns (total 31 columns):\n",
      " #   Column                 Non-Null Count   Dtype  \n",
      "---  ------                 --------------   -----  \n",
      " 0   trip_id                107548 non-null  int64  \n",
      " 1   arrival_time           107548 non-null  object \n",
      " 2   departure_time         107548 non-null  object \n",
      " 3   stop_id                107548 non-null  object \n",
      " 4   stop_sequence          107548 non-null  int64  \n",
      " 5   route_id               107548 non-null  int64  \n",
      " 6   service_id             107548 non-null  object \n",
      " 7   trip_headsign          107548 non-null  object \n",
      " 8   direction_id           107548 non-null  int64  \n",
      " 9   shape_id               107548 non-null  int64  \n",
      " 10  wheelchair_accessible  107548 non-null  int64  \n",
      " 11  agency_id              107548 non-null  object \n",
      " 12  route_short_name       107548 non-null  int64  \n",
      " 13  route_long_name        107548 non-null  object \n",
      " 14  route_type             107548 non-null  int64  \n",
      " 15  stop_code              107548 non-null  int64  \n",
      " 16  stop_name              107548 non-null  object \n",
      " 17  stop_lat               107548 non-null  float64\n",
      " 18  stop_lon               107548 non-null  float64\n",
      " 19  location_type          107548 non-null  int64  \n",
      " 20  parent_station         92870 non-null   object \n",
      " 21  wheelchair_boarding    107548 non-null  int64  \n",
      " 22  hour                   107548 non-null  int32  \n",
      " 23  hour_mod               107548 non-null  int32  \n",
      " 24  monday                 107548 non-null  int64  \n",
      " 25  tuesday                107548 non-null  int64  \n",
      " 26  wednesday              107548 non-null  int64  \n",
      " 27  thursday               107548 non-null  int64  \n",
      " 28  friday                 107548 non-null  int64  \n",
      " 29  saturday               107548 non-null  int64  \n",
      " 30  sunday                 107548 non-null  int64  \n",
      "dtypes: float64(2), int32(2), int64(18), object(9)\n",
      "memory usage: 25.4+ MB\n"
     ]
    }
   ],
   "source": [
    "df_30_top_stops.info()"
   ]
  },
  {
   "cell_type": "code",
   "execution_count": 67,
   "id": "9a2ae3e8-81be-4a47-a320-9ed8c31b3469",
   "metadata": {},
   "outputs": [],
   "source": [
    "df_30_top_stops = df_30_top_stops[keep]"
   ]
  },
  {
   "cell_type": "code",
   "execution_count": 68,
   "id": "82434a69-9ce1-4e33-b005-465e6df2b009",
   "metadata": {},
   "outputs": [],
   "source": [
    "df_30_top_stops.to_csv('gtfs_selective_columns.csv', index=False)"
   ]
  },
  {
   "cell_type": "code",
   "execution_count": null,
   "id": "3c939d20-f6e0-4660-acef-1a44a67c040a",
   "metadata": {},
   "outputs": [],
   "source": []
  }
 ],
 "metadata": {
  "kernelspec": {
   "display_name": "Python 3 (ipykernel)",
   "language": "python",
   "name": "python3"
  },
  "language_info": {
   "codemirror_mode": {
    "name": "ipython",
    "version": 3
   },
   "file_extension": ".py",
   "mimetype": "text/x-python",
   "name": "python",
   "nbconvert_exporter": "python",
   "pygments_lexer": "ipython3",
   "version": "3.11.4"
  }
 },
 "nbformat": 4,
 "nbformat_minor": 5
}
